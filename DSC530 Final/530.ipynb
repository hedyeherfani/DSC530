{
 "cells": [
  {
   "cell_type": "markdown",
   "metadata": {},
   "source": [
    "Does life expectancy at birth impact birth rates?"
   ]
  },
  {
   "cell_type": "code",
   "execution_count": 91,
   "metadata": {},
   "outputs": [],
   "source": [
    "from __future__ import print_function, division\n",
    "import pandas as pd\n",
    "import numpy as np\n",
    "import numpy\n",
    "import thinkplot\n",
    "import matplotlib.pyplot as plt\n",
    "%matplotlib inline"
   ]
  },
  {
   "cell_type": "code",
   "execution_count": 92,
   "metadata": {},
   "outputs": [],
   "source": [
    "#factbook = pd.read_csv('factbook.csv', sep=\";\")"
   ]
  },
  {
   "cell_type": "code",
   "execution_count": 93,
   "metadata": {},
   "outputs": [],
   "source": [
    "factbook = pd.read_csv('factbook.csv', sep=\";\",names=[\"Country\",\"Area(sq km)\",\"Birth rate(births/1000 population)\",\"Current account balance\",\"Death rate(deaths/1000 population)\",\"Debt - external\",\"Electricity - consumption(kWh)\",\"Electricity - production(kWh)\",\"Exports\",\"GDP\",\"GDP - per capita\",\"GDP - real growth rate(%)\",\"HIV/AIDS - adult prevalence rate(%)\",\"HIV/AIDS - deaths\",\"HIV/AIDS - people living with HIV/AIDS\",\"Highways(km)\",\"Imports\",\"Industrial production growth rate(%)\",\"Infant mortality rate(deaths/1000 live births)\",\"Inflation rate (consumer prices)(%)\",\"Internet hosts\",\"Internet users\",\"Investment (gross fixed)(% of GDP)\",\"Labor force\",\"Life expectancy at birht(years)\",\"Military expenditures - dollar figure\",\"Military expenditures - percent of GDP(%)\",\"Natural gas - consumption(cu m)\",\"Natural gas - exports(cu m)\",\"Natural gas - imports(cu m)\",\"Natural gas - production(cu m)\",\"Natural gas - proved reserves(cu m)\",\"Oil - consumption(bbl/day)\",\"Oil - exports(bbl/day)\",\"Oil - imports(bbl/day)\",\"Oil - production(bbl/day)\",\"Oil - proved reserves(bbl)\",\"Population\",\"Public debt(% of GDP)\",\"Railways(km)\",\"Reserves of foreign exchange & gold\",\"Telephones - main lines in use\",\"Telephones - mobile cellular\",\"Total fertility rate(children born/woman)\",\"Unemployment rate(%)\"])"
   ]
  },
  {
   "cell_type": "code",
   "execution_count": 94,
   "metadata": {},
   "outputs": [],
   "source": [
    "factbook.to_csv('UpdatedFactbook.csv',index=False)"
   ]
  },
  {
   "cell_type": "code",
   "execution_count": 95,
   "metadata": {},
   "outputs": [
    {
     "data": {
      "text/html": [
       "<div>\n",
       "<style scoped>\n",
       "    .dataframe tbody tr th:only-of-type {\n",
       "        vertical-align: middle;\n",
       "    }\n",
       "\n",
       "    .dataframe tbody tr th {\n",
       "        vertical-align: top;\n",
       "    }\n",
       "\n",
       "    .dataframe thead th {\n",
       "        text-align: right;\n",
       "    }\n",
       "</style>\n",
       "<table border=\"1\" class=\"dataframe\">\n",
       "  <thead>\n",
       "    <tr style=\"text-align: right;\">\n",
       "      <th></th>\n",
       "      <th>Country</th>\n",
       "      <th>Area(sq km)</th>\n",
       "      <th>Birth rate(births/1000 population)</th>\n",
       "      <th>Current account balance</th>\n",
       "      <th>Death rate(deaths/1000 population)</th>\n",
       "      <th>Debt - external</th>\n",
       "      <th>Electricity - consumption(kWh)</th>\n",
       "      <th>Electricity - production(kWh)</th>\n",
       "      <th>Exports</th>\n",
       "      <th>GDP</th>\n",
       "      <th>...</th>\n",
       "      <th>Oil - production(bbl/day)</th>\n",
       "      <th>Oil - proved reserves(bbl)</th>\n",
       "      <th>Population</th>\n",
       "      <th>Public debt(% of GDP)</th>\n",
       "      <th>Railways(km)</th>\n",
       "      <th>Reserves of foreign exchange &amp; gold</th>\n",
       "      <th>Telephones - main lines in use</th>\n",
       "      <th>Telephones - mobile cellular</th>\n",
       "      <th>Total fertility rate(children born/woman)</th>\n",
       "      <th>Unemployment rate(%)</th>\n",
       "    </tr>\n",
       "  </thead>\n",
       "  <tbody>\n",
       "    <tr>\n",
       "      <th>0</th>\n",
       "      <td>Country</td>\n",
       "      <td>Area(sq km)</td>\n",
       "      <td>Birth rate(births/1000 population)</td>\n",
       "      <td>Current account balance</td>\n",
       "      <td>Death rate(deaths/1000 population)</td>\n",
       "      <td>Debt - external</td>\n",
       "      <td>Electricity - consumption(kWh)</td>\n",
       "      <td>Electricity - production(kWh)</td>\n",
       "      <td>Exports</td>\n",
       "      <td>GDP</td>\n",
       "      <td>...</td>\n",
       "      <td>Oil - production(bbl/day)</td>\n",
       "      <td>Oil - proved reserves(bbl)</td>\n",
       "      <td>Population</td>\n",
       "      <td>Public debt(% of GDP)</td>\n",
       "      <td>Railways(km)</td>\n",
       "      <td>Reserves of foreign exchange &amp; gold</td>\n",
       "      <td>Telephones - main lines in use</td>\n",
       "      <td>Telephones - mobile cellular</td>\n",
       "      <td>Total fertility rate(children born/woman)</td>\n",
       "      <td>Unemployment rate(%)</td>\n",
       "    </tr>\n",
       "    <tr>\n",
       "      <th>1</th>\n",
       "      <td>String</td>\n",
       "      <td>double</td>\n",
       "      <td>double</td>\n",
       "      <td>double</td>\n",
       "      <td>double</td>\n",
       "      <td>double</td>\n",
       "      <td>double</td>\n",
       "      <td>double</td>\n",
       "      <td>double</td>\n",
       "      <td>double</td>\n",
       "      <td>...</td>\n",
       "      <td>double</td>\n",
       "      <td>double</td>\n",
       "      <td>double</td>\n",
       "      <td>double</td>\n",
       "      <td>double</td>\n",
       "      <td>double</td>\n",
       "      <td>double</td>\n",
       "      <td>double</td>\n",
       "      <td>double</td>\n",
       "      <td>double</td>\n",
       "    </tr>\n",
       "    <tr>\n",
       "      <th>2</th>\n",
       "      <td>Afghanistan</td>\n",
       "      <td>647500</td>\n",
       "      <td>47.02</td>\n",
       "      <td>NaN</td>\n",
       "      <td>20.75</td>\n",
       "      <td>8000000000</td>\n",
       "      <td>652200000</td>\n",
       "      <td>540000000</td>\n",
       "      <td>446000000</td>\n",
       "      <td>21500000000</td>\n",
       "      <td>...</td>\n",
       "      <td>0</td>\n",
       "      <td>0</td>\n",
       "      <td>29928987</td>\n",
       "      <td>NaN</td>\n",
       "      <td>NaN</td>\n",
       "      <td>NaN</td>\n",
       "      <td>33100</td>\n",
       "      <td>15000</td>\n",
       "      <td>6.75</td>\n",
       "      <td>NaN</td>\n",
       "    </tr>\n",
       "    <tr>\n",
       "      <th>3</th>\n",
       "      <td>Akrotiri</td>\n",
       "      <td>123</td>\n",
       "      <td>NaN</td>\n",
       "      <td>NaN</td>\n",
       "      <td>NaN</td>\n",
       "      <td>NaN</td>\n",
       "      <td>NaN</td>\n",
       "      <td>NaN</td>\n",
       "      <td>NaN</td>\n",
       "      <td>NaN</td>\n",
       "      <td>...</td>\n",
       "      <td>NaN</td>\n",
       "      <td>NaN</td>\n",
       "      <td>NaN</td>\n",
       "      <td>NaN</td>\n",
       "      <td>NaN</td>\n",
       "      <td>NaN</td>\n",
       "      <td>NaN</td>\n",
       "      <td>NaN</td>\n",
       "      <td>NaN</td>\n",
       "      <td>NaN</td>\n",
       "    </tr>\n",
       "    <tr>\n",
       "      <th>4</th>\n",
       "      <td>Albania</td>\n",
       "      <td>28748</td>\n",
       "      <td>15.08</td>\n",
       "      <td>-504000000</td>\n",
       "      <td>5.12</td>\n",
       "      <td>1410000000</td>\n",
       "      <td>6760000000</td>\n",
       "      <td>5680000000</td>\n",
       "      <td>552400000</td>\n",
       "      <td>17460000000</td>\n",
       "      <td>...</td>\n",
       "      <td>2000</td>\n",
       "      <td>185500000</td>\n",
       "      <td>3563112</td>\n",
       "      <td>NaN</td>\n",
       "      <td>447</td>\n",
       "      <td>1206000000</td>\n",
       "      <td>255000</td>\n",
       "      <td>1100000</td>\n",
       "      <td>2.04</td>\n",
       "      <td>14.80</td>\n",
       "    </tr>\n",
       "  </tbody>\n",
       "</table>\n",
       "<p>5 rows × 45 columns</p>\n",
       "</div>"
      ],
      "text/plain": [
       "       Country  Area(sq km)  Birth rate(births/1000 population)  \\\n",
       "0      Country  Area(sq km)  Birth rate(births/1000 population)   \n",
       "1       String       double                              double   \n",
       "2  Afghanistan       647500                               47.02   \n",
       "3     Akrotiri          123                                 NaN   \n",
       "4      Albania        28748                               15.08   \n",
       "\n",
       "   Current account balance  Death rate(deaths/1000 population)  \\\n",
       "0  Current account balance  Death rate(deaths/1000 population)   \n",
       "1                   double                              double   \n",
       "2                      NaN                               20.75   \n",
       "3                      NaN                                 NaN   \n",
       "4               -504000000                                5.12   \n",
       "\n",
       "   Debt - external  Electricity - consumption(kWh)  \\\n",
       "0  Debt - external  Electricity - consumption(kWh)   \n",
       "1           double                          double   \n",
       "2       8000000000                       652200000   \n",
       "3              NaN                             NaN   \n",
       "4       1410000000                      6760000000   \n",
       "\n",
       "   Electricity - production(kWh)    Exports          GDP  \\\n",
       "0  Electricity - production(kWh)    Exports          GDP   \n",
       "1                         double     double       double   \n",
       "2                      540000000  446000000  21500000000   \n",
       "3                            NaN        NaN          NaN   \n",
       "4                     5680000000  552400000  17460000000   \n",
       "\n",
       "           ...           Oil - production(bbl/day)  \\\n",
       "0          ...           Oil - production(bbl/day)   \n",
       "1          ...                              double   \n",
       "2          ...                                   0   \n",
       "3          ...                                 NaN   \n",
       "4          ...                                2000   \n",
       "\n",
       "   Oil - proved reserves(bbl)  Population  Public debt(% of GDP)  \\\n",
       "0  Oil - proved reserves(bbl)  Population  Public debt(% of GDP)   \n",
       "1                      double      double                 double   \n",
       "2                           0    29928987                    NaN   \n",
       "3                         NaN         NaN                    NaN   \n",
       "4                   185500000     3563112                    NaN   \n",
       "\n",
       "   Railways(km)  Reserves of foreign exchange & gold  \\\n",
       "0  Railways(km)  Reserves of foreign exchange & gold   \n",
       "1        double                               double   \n",
       "2           NaN                                  NaN   \n",
       "3           NaN                                  NaN   \n",
       "4           447                           1206000000   \n",
       "\n",
       "   Telephones - main lines in use  Telephones - mobile cellular  \\\n",
       "0  Telephones - main lines in use  Telephones - mobile cellular   \n",
       "1                          double                        double   \n",
       "2                           33100                         15000   \n",
       "3                             NaN                           NaN   \n",
       "4                          255000                       1100000   \n",
       "\n",
       "   Total fertility rate(children born/woman)  Unemployment rate(%)  \n",
       "0  Total fertility rate(children born/woman)  Unemployment rate(%)  \n",
       "1                                     double                double  \n",
       "2                                       6.75                   NaN  \n",
       "3                                        NaN                   NaN  \n",
       "4                                       2.04                 14.80  \n",
       "\n",
       "[5 rows x 45 columns]"
      ]
     },
     "execution_count": 95,
     "metadata": {},
     "output_type": "execute_result"
    }
   ],
   "source": [
    "factbook.head()"
   ]
  },
  {
   "cell_type": "code",
   "execution_count": 96,
   "metadata": {},
   "outputs": [
    {
     "data": {
      "text/plain": [
       "Country                                           0\n",
       "Area(sq km)                                       0\n",
       "Birth rate(births/1000 population)                0\n",
       "Current account balance                           0\n",
       "Death rate(deaths/1000 population)                0\n",
       "Debt - external                                   0\n",
       "Electricity - consumption(kWh)                    0\n",
       "Electricity - production(kWh)                     0\n",
       "Exports                                           0\n",
       "GDP                                               0\n",
       "GDP - per capita                                  0\n",
       "GDP - real growth rate(%)                         0\n",
       "HIV/AIDS - adult prevalence rate(%)               0\n",
       "HIV/AIDS - deaths                                 0\n",
       "HIV/AIDS - people living with HIV/AIDS            0\n",
       "Highways(km)                                      0\n",
       "Imports                                           0\n",
       "Industrial production growth rate(%)              0\n",
       "Infant mortality rate(deaths/1000 live births)    0\n",
       "Inflation rate (consumer prices)(%)               0\n",
       "Internet hosts                                    0\n",
       "Internet users                                    0\n",
       "Investment (gross fixed)(% of GDP)                0\n",
       "Labor force                                       0\n",
       "Life expectancy at birht(years)                   0\n",
       "Military expenditures - dollar figure             0\n",
       "Military expenditures - percent of GDP(%)         0\n",
       "Natural gas - consumption(cu m)                   0\n",
       "Natural gas - exports(cu m)                       0\n",
       "Natural gas - imports(cu m)                       0\n",
       "Natural gas - production(cu m)                    0\n",
       "Natural gas - proved reserves(cu m)               0\n",
       "Oil - consumption(bbl/day)                        0\n",
       "Oil - exports(bbl/day)                            0\n",
       "Oil - imports(bbl/day)                            0\n",
       "Oil - production(bbl/day)                         0\n",
       "Oil - proved reserves(bbl)                        0\n",
       "Population                                        0\n",
       "Public debt(% of GDP)                             0\n",
       "Railways(km)                                      0\n",
       "Reserves of foreign exchange & gold               0\n",
       "Telephones - main lines in use                    0\n",
       "Telephones - mobile cellular                      0\n",
       "Total fertility rate(children born/woman)         0\n",
       "Unemployment rate(%)                              0\n",
       "dtype: int64"
      ]
     },
     "execution_count": 96,
     "metadata": {},
     "output_type": "execute_result"
    }
   ],
   "source": [
    "factbook = factbook.fillna(\" \")\n",
    "factbook.isnull().sum()"
   ]
  },
  {
   "cell_type": "code",
   "execution_count": 97,
   "metadata": {},
   "outputs": [],
   "source": [
    "# Creating the histograms\n",
    "import matplotlib.pyplot as plt"
   ]
  },
  {
   "cell_type": "code",
   "execution_count": 98,
   "metadata": {},
   "outputs": [],
   "source": [
    "factbook.rename(columns = {'Unemployment rate(%)':'Unemployment'}, inplace = True) \n",
    "factbook.rename(columns = {'Life expectancy at birht(years)':'Life_expectancy_at_birth'}, inplace = True) \n",
    "factbook.rename(columns = {'Death rate(deaths/1000 population)':'Death_rate'}, inplace = True)\n",
    "factbook.rename(columns = {'Birth rate(births/1000 population)':'Birth_rate'}, inplace = True)"
   ]
  },
  {
   "cell_type": "code",
   "execution_count": 99,
   "metadata": {},
   "outputs": [],
   "source": [
    "factbook = factbook.drop([0,1,3,10,15,21,24,34,36,52,53,54,67,79,96,109,112,123,125,127,129,132,163,172,188,194,224,228,241,258], axis=0)"
   ]
  },
  {
   "cell_type": "code",
   "execution_count": 100,
   "metadata": {},
   "outputs": [],
   "source": [
    "factbook[\"Unemployment\"] = pd.to_numeric(factbook.Unemployment, errors='coerce')"
   ]
  },
  {
   "cell_type": "code",
   "execution_count": 101,
   "metadata": {},
   "outputs": [
    {
     "data": {
      "text/plain": [
       "2       NaN\n",
       "4      14.8\n",
       "5      25.4\n",
       "6       6.0\n",
       "7       0.0\n",
       "8       NaN\n",
       "9       8.0\n",
       "11     11.0\n",
       "12     14.8\n",
       "13     30.0\n",
       "14      0.6\n",
       "16      5.1\n",
       "17      4.4\n",
       "18      1.2\n",
       "19     10.2\n",
       "20     15.0\n",
       "22     40.0\n",
       "23     10.7\n",
       "25      2.0\n",
       "26     12.0\n",
       "27     12.9\n",
       "28      NaN\n",
       "29      5.0\n",
       "30      NaN\n",
       "31      9.2\n",
       "32     44.0\n",
       "33     23.8\n",
       "35     11.5\n",
       "37      3.0\n",
       "38      3.2\n",
       "       ... \n",
       "233     4.5\n",
       "234    40.0\n",
       "235     NaN\n",
       "236     1.5\n",
       "237     NaN\n",
       "238     NaN\n",
       "239    13.3\n",
       "240    10.4\n",
       "242    13.8\n",
       "243     9.3\n",
       "244    60.0\n",
       "245    10.0\n",
       "246     NaN\n",
       "247     NaN\n",
       "248     3.5\n",
       "249     2.4\n",
       "250     4.8\n",
       "251     5.5\n",
       "252    13.0\n",
       "253     0.6\n",
       "254     NaN\n",
       "255    17.1\n",
       "256     1.9\n",
       "257     9.3\n",
       "259     NaN\n",
       "260    27.2\n",
       "261     NaN\n",
       "262    35.0\n",
       "263    50.0\n",
       "264    70.0\n",
       "Name: Unemployment, Length: 235, dtype: float64"
      ]
     },
     "execution_count": 101,
     "metadata": {},
     "output_type": "execute_result"
    }
   ],
   "source": [
    "factbook.Unemployment"
   ]
  },
  {
   "cell_type": "code",
   "execution_count": 102,
   "metadata": {},
   "outputs": [
    {
     "data": {
      "text/plain": [
       "Country                                           0\n",
       "Area(sq km)                                       0\n",
       "Birth_rate                                        0\n",
       "Current account balance                           0\n",
       "Death_rate                                        0\n",
       "Debt - external                                   0\n",
       "Electricity - consumption(kWh)                    0\n",
       "Electricity - production(kWh)                     0\n",
       "Exports                                           0\n",
       "GDP                                               0\n",
       "GDP - per capita                                  0\n",
       "GDP - real growth rate(%)                         0\n",
       "HIV/AIDS - adult prevalence rate(%)               0\n",
       "HIV/AIDS - deaths                                 0\n",
       "HIV/AIDS - people living with HIV/AIDS            0\n",
       "Highways(km)                                      0\n",
       "Imports                                           0\n",
       "Industrial production growth rate(%)              0\n",
       "Infant mortality rate(deaths/1000 live births)    0\n",
       "Inflation rate (consumer prices)(%)               0\n",
       "Internet hosts                                    0\n",
       "Internet users                                    0\n",
       "Investment (gross fixed)(% of GDP)                0\n",
       "Labor force                                       0\n",
       "Life_expectancy_at_birth                          0\n",
       "Military expenditures - dollar figure             0\n",
       "Military expenditures - percent of GDP(%)         0\n",
       "Natural gas - consumption(cu m)                   0\n",
       "Natural gas - exports(cu m)                       0\n",
       "Natural gas - imports(cu m)                       0\n",
       "Natural gas - production(cu m)                    0\n",
       "Natural gas - proved reserves(cu m)               0\n",
       "Oil - consumption(bbl/day)                        0\n",
       "Oil - exports(bbl/day)                            0\n",
       "Oil - imports(bbl/day)                            0\n",
       "Oil - production(bbl/day)                         0\n",
       "Oil - proved reserves(bbl)                        0\n",
       "Population                                        0\n",
       "Public debt(% of GDP)                             0\n",
       "Railways(km)                                      0\n",
       "Reserves of foreign exchange & gold               0\n",
       "Telephones - main lines in use                    0\n",
       "Telephones - mobile cellular                      0\n",
       "Total fertility rate(children born/woman)         0\n",
       "Unemployment                                      0\n",
       "dtype: int64"
      ]
     },
     "execution_count": 102,
     "metadata": {},
     "output_type": "execute_result"
    }
   ],
   "source": [
    "factbook = factbook.fillna(\" \")\n",
    "factbook.isnull().sum()"
   ]
  },
  {
   "cell_type": "code",
   "execution_count": 103,
   "metadata": {},
   "outputs": [],
   "source": [
    "factbook[\"Unemployment\"] = pd.to_numeric(factbook.Unemployment, errors='coerce')"
   ]
  },
  {
   "cell_type": "code",
   "execution_count": 147,
   "metadata": {},
   "outputs": [],
   "source": [
    "factbook[\"Death_rate\"] = pd.to_numeric(factbook.Death_rate, errors='coerce')"
   ]
  },
  {
   "cell_type": "code",
   "execution_count": 104,
   "metadata": {},
   "outputs": [
    {
     "data": {
      "image/png": "[encoded data removed]",
      "text/plain": [
       "<Figure size 432x288 with 1 Axes>"
      ]
     },
     "metadata": {
      "needs_background": "light"
     },
     "output_type": "display_data"
    }
   ],
   "source": [
    "factbook[['Unemployment']].plot(kind='hist',bins=[0,10,20,30,40,50,60,70,80,90,100],rwidth=0.8)\n",
    "plt.show()"
   ]
  },
  {
   "cell_type": "code",
   "execution_count": 105,
   "metadata": {},
   "outputs": [],
   "source": [
    "#factbook[\"Life expectancy at birth(years)\"] = pd.to_numeric(factbook.Life_expectancy_at_birth, errors='coerce')"
   ]
  },
  {
   "cell_type": "code",
   "execution_count": 106,
   "metadata": {},
   "outputs": [],
   "source": [
    "factbook[\"Life_expectancy_at_birth\"] = pd.to_numeric(factbook.Life_expectancy_at_birth, errors='coerce')"
   ]
  },
  {
   "cell_type": "code",
   "execution_count": 107,
   "metadata": {},
   "outputs": [
    {
     "data": {
      "image/png": "[encoded data removed]",
      "text/plain": [
       "<Figure size 432x288 with 1 Axes>"
      ]
     },
     "metadata": {
      "needs_background": "light"
     },
     "output_type": "display_data"
    }
   ],
   "source": [
    "factbook[['Life_expectancy_at_birth']].plot(kind='hist',bins=[0,10,20,30,40,50,60,70,80,90,100],rwidth=0.8)\n",
    "plt.show()"
   ]
  },
  {
   "cell_type": "code",
   "execution_count": 108,
   "metadata": {},
   "outputs": [],
   "source": [
    "#factbook[['Life expectancy at birth(years)']].plot(kind='hist',bins=[0,10,20,30,40,50,60,70,80,90,100],rwidth=0.8)\n",
    "#plt.show()"
   ]
  },
  {
   "cell_type": "code",
   "execution_count": 109,
   "metadata": {},
   "outputs": [],
   "source": [
    "factbook[\"Death_rate\"] = pd.to_numeric(factbook.Death_rate, errors='coerce')"
   ]
  },
  {
   "cell_type": "code",
   "execution_count": 110,
   "metadata": {},
   "outputs": [
    {
     "data": {
      "image/png": "[encoded data removed]",
      "text/plain": [
       "<Figure size 432x288 with 1 Axes>"
      ]
     },
     "metadata": {
      "needs_background": "light"
     },
     "output_type": "display_data"
    }
   ],
   "source": [
    "factbook[['Death_rate']].plot(kind='hist',bins=[0,10,20,30,40,50,60,70,80,90,100],rwidth=0.8)\n",
    "plt.show()"
   ]
  },
  {
   "cell_type": "code",
   "execution_count": 111,
   "metadata": {},
   "outputs": [],
   "source": [
    "factbook[\"Birth_rate\"] = pd.to_numeric(factbook.Death_rate, errors='coerce')"
   ]
  },
  {
   "cell_type": "code",
   "execution_count": 112,
   "metadata": {},
   "outputs": [
    {
     "data": {
      "image/png": "[encoded data removed]",
      "text/plain": [
       "<Figure size 432x288 with 1 Axes>"
      ]
     },
     "metadata": {
      "needs_background": "light"
     },
     "output_type": "display_data"
    }
   ],
   "source": [
    "factbook[['Birth_rate']].plot(kind='hist',bins=[0,10,20,30,40,50,60,70,80,90,100],rwidth=0.8)\n",
    "plt.show()"
   ]
  },
  {
   "cell_type": "markdown",
   "metadata": {},
   "source": [
    "# Compare two scenarios using a PMF"
   ]
  },
  {
   "cell_type": "code",
   "execution_count": 114,
   "metadata": {},
   "outputs": [],
   "source": [
    "%matplotlib inline\n",
    "\n",
    "import numpy as np\n",
    "import thinkstats2\n",
    "import thinkplot"
   ]
  },
  {
   "cell_type": "code",
   "execution_count": 115,
   "metadata": {},
   "outputs": [],
   "source": [
    "# Average worldwide life expectancy is 72. I am going to create two subsets, life expectancy less than this\n",
    "# and life expectancy greater than this. I will then compare the subsets\n",
    "lower_life_expectancy = factbook.loc[factbook['Life_expectancy_at_birth']<72]\n",
    "higher_life_expectancy = factbook.loc[factbook['Life_expectancy_at_birth']>72]"
   ]
  },
  {
   "cell_type": "code",
   "execution_count": 116,
   "metadata": {},
   "outputs": [],
   "source": [
    "lower_pmf = thinkstats2.Pmf(lower_life_expectancy.Life_expectancy_at_birth)\n",
    "higher_pmf = thinkstats2.Pmf(higher_life_expectancy.Life_expectancy_at_birth)"
   ]
  },
  {
   "cell_type": "code",
   "execution_count": 117,
   "metadata": {},
   "outputs": [
    {
     "data": {
      "image/png": "[encoded data removed]",
      "text/plain": [
       "<Figure size 432x288 with 2 Axes>"
      ]
     },
     "metadata": {
      "needs_background": "light"
     },
     "output_type": "display_data"
    }
   ],
   "source": [
    "width=0.7\n",
    "axis = [32,85,0,0.04]\n",
    "thinkplot.PrePlot(2, rows=2)\n",
    "thinkplot.Hist(lower_pmf, align='right',width=width)\n",
    "thinkplot.Hist(higher_pmf, align='left',width=width)\n",
    "thinkplot.Config(xlabel='Life expectancy(years)', ylabel='PMF', axis=axis)\n",
    "\n",
    "thinkplot.PrePlot(2)\n",
    "thinkplot.SubPlot(2)\n",
    "thinkplot.Pmfs([lower_pmf, higher_pmf])\n",
    "thinkplot.Config(xlabel='Life expectancy(years)', axis=axis)\n"
   ]
  },
  {
   "cell_type": "markdown",
   "metadata": {},
   "source": [
    "# Create one CDF with one of your variables"
   ]
  },
  {
   "cell_type": "code",
   "execution_count": 118,
   "metadata": {},
   "outputs": [
    {
     "data": {
      "image/png": "[encoded data removed]",
      "text/plain": [
       "<Figure size 432x288 with 1 Axes>"
      ]
     },
     "metadata": {
      "needs_background": "light"
     },
     "output_type": "display_data"
    }
   ],
   "source": [
    "cdf = thinkstats2.Cdf(factbook.Birth_rate, label='birth rate')\n",
    "thinkplot.Cdf(cdf)\n",
    "thinkplot.Config(xlabel='Average birth rates', ylabel='CDF', loc='upper left')"
   ]
  },
  {
   "cell_type": "markdown",
   "metadata": {},
   "source": [
    "From looking at the CDF, we can see that about 10% of countries have an average birth rate of 5 babies per 1,000 of the population. 90% of countries have an average birth rate of about 15 babies per 1,000. So, we could say that most countries have an average birth rate of between 5 and 15 babies per 1,000. This helps us understand what to expect for birth rates."
   ]
  },
  {
   "cell_type": "markdown",
   "metadata": {},
   "source": [
    "# Plot 1 analytical distribution "
   ]
  },
  {
   "cell_type": "code",
   "execution_count": 119,
   "metadata": {},
   "outputs": [
    {
     "data": {
      "image/png": "[encoded data removed]",
      "text/plain": [
       "<Figure size 432x288 with 1 Axes>"
      ]
     },
     "metadata": {
      "needs_background": "light"
     },
     "output_type": "display_data"
    }
   ],
   "source": [
    "mean, var = thinkstats2.TrimmedMeanVar(factbook.Life_expectancy_at_birth, p=0.01)\n",
    "std = np.sqrt(var)\n",
    "\n",
    "xs = [-4, 4]\n",
    "fxs, fys = thinkstats2.FitLine(xs, mean, std)\n",
    "thinkplot.Plot(fxs, fys, linewidth=4, color='0.8')\n",
    "\n",
    "xs, ys = thinkstats2.NormalProbability(factbook.Life_expectancy_at_birth)\n",
    "thinkplot.Plot(xs, ys, label='years')\n",
    "\n",
    "thinkplot.Config(title='Normal probability plot',\n",
    "                 xlabel='Standard deviations from mean',\n",
    "                 ylabel='Life expectancy(years)')\n"
   ]
  },
  {
   "cell_type": "markdown",
   "metadata": {},
   "source": [
    "As we can see, this plot is not a straight line. It is skewed, which tells us that the data is not normally distributed. We already had a hunch about this when looking out our histogram. The histogram also showed that there was a skew for Life Expectancy at Birth"
   ]
  },
  {
   "cell_type": "markdown",
   "metadata": {},
   "source": [
    "# Scatter plots below"
   ]
  },
  {
   "cell_type": "code",
   "execution_count": 120,
   "metadata": {},
   "outputs": [
    {
     "data": {
      "text/plain": [
       "<matplotlib.collections.PathCollection at 0x7ffcb66cbe90>"
      ]
     },
     "execution_count": 120,
     "metadata": {},
     "output_type": "execute_result"
    },
    {
     "data": {
      "image/png": "[encoded data removed]",
      "text/plain": [
       "<Figure size 432x288 with 1 Axes>"
      ]
     },
     "metadata": {
      "needs_background": "light"
     },
     "output_type": "display_data"
    }
   ],
   "source": [
    "plt.scatter(factbook.Life_expectancy_at_birth,factbook.Birth_rate)"
   ]
  },
  {
   "cell_type": "code",
   "execution_count": 122,
   "metadata": {},
   "outputs": [],
   "source": [
    "factbook = factbook.fillna(\" \")"
   ]
  },
  {
   "cell_type": "code",
   "execution_count": 123,
   "metadata": {},
   "outputs": [],
   "source": [
    "factbook['Life_expectancy_at_birth'] = factbook['Life_expectancy_at_birth'].apply(pd.to_numeric, errors='coerce')"
   ]
  },
  {
   "cell_type": "code",
   "execution_count": 124,
   "metadata": {},
   "outputs": [],
   "source": [
    "factbook['Birth_rate'] = factbook['Birth_rate'].apply(pd.to_numeric, errors='coerce')"
   ]
  },
  {
   "cell_type": "code",
   "execution_count": 125,
   "metadata": {},
   "outputs": [
    {
     "name": "stdout",
     "output_type": "stream",
     "text": [
      "-48.52922979761905\n"
     ]
    }
   ],
   "source": [
    "print(factbook.Life_expectancy_at_birth.cov(factbook.Birth_rate))"
   ]
  },
  {
   "cell_type": "markdown",
   "metadata": {},
   "source": [
    "We can see that the covariance is negative. This implies an inverse relationship between life expectancy at birth and birth rate. But it is important to remember that covariance doesn't mean much by itself. But we can see the inverse relationship in the scatter plot above. As life expectancy at birth increased, birth rate decreased as a result."
   ]
  },
  {
   "cell_type": "code",
   "execution_count": 126,
   "metadata": {},
   "outputs": [
    {
     "data": {
      "text/html": [
       "<div>\n",
       "<style scoped>\n",
       "    .dataframe tbody tr th:only-of-type {\n",
       "        vertical-align: middle;\n",
       "    }\n",
       "\n",
       "    .dataframe tbody tr th {\n",
       "        vertical-align: top;\n",
       "    }\n",
       "\n",
       "    .dataframe thead th {\n",
       "        text-align: right;\n",
       "    }\n",
       "</style>\n",
       "<table border=\"1\" class=\"dataframe\">\n",
       "  <thead>\n",
       "    <tr style=\"text-align: right;\">\n",
       "      <th></th>\n",
       "      <th>Life_expectancy_at_birth</th>\n",
       "      <th>Birth_rate</th>\n",
       "    </tr>\n",
       "  </thead>\n",
       "  <tbody>\n",
       "    <tr>\n",
       "      <th>Life_expectancy_at_birth</th>\n",
       "      <td>1.000000</td>\n",
       "      <td>-0.809083</td>\n",
       "    </tr>\n",
       "    <tr>\n",
       "      <th>Birth_rate</th>\n",
       "      <td>-0.809083</td>\n",
       "      <td>1.000000</td>\n",
       "    </tr>\n",
       "  </tbody>\n",
       "</table>\n",
       "</div>"
      ],
      "text/plain": [
       "                          Life_expectancy_at_birth  Birth_rate\n",
       "Life_expectancy_at_birth                  1.000000   -0.809083\n",
       "Birth_rate                               -0.809083    1.000000"
      ]
     },
     "execution_count": 126,
     "metadata": {},
     "output_type": "execute_result"
    }
   ],
   "source": [
    "data = factbook[['Life_expectancy_at_birth','Birth_rate']]\n",
    "correlation = data.corr(method='pearson')\n",
    "correlation"
   ]
  },
  {
   "cell_type": "markdown",
   "metadata": {},
   "source": [
    "We can see that Pearson's correlation is a negative number. This shows an inverse relationship as stated above. Furthermore, with how close -0.8 is to -1, we can say that there is a high positive (negative) relationship."
   ]
  },
  {
   "cell_type": "code",
   "execution_count": 137,
   "metadata": {},
   "outputs": [],
   "source": [
    "factbook['Unemployment'] = factbook['Unemployment'].apply(pd.to_numeric, errors='coerce')"
   ]
  },
  {
   "cell_type": "code",
   "execution_count": 138,
   "metadata": {},
   "outputs": [
    {
     "data": {
      "text/plain": [
       "<matplotlib.collections.PathCollection at 0x7ffcb6524710>"
      ]
     },
     "execution_count": 138,
     "metadata": {},
     "output_type": "execute_result"
    },
    {
     "data": {
      "image/png": "[encoded data removed]",
      "text/plain": [
       "<Figure size 432x288 with 1 Axes>"
      ]
     },
     "metadata": {
      "needs_background": "light"
     },
     "output_type": "display_data"
    }
   ],
   "source": [
    "plt.scatter(factbook.Life_expectancy_at_birth,factbook.Unemployment)"
   ]
  },
  {
   "cell_type": "code",
   "execution_count": 139,
   "metadata": {},
   "outputs": [
    {
     "name": "stdout",
     "output_type": "stream",
     "text": [
      "-80.2514201001914\n"
     ]
    }
   ],
   "source": [
    "print(factbook.Life_expectancy_at_birth.cov(factbook.Unemployment))"
   ]
  },
  {
   "cell_type": "markdown",
   "metadata": {},
   "source": [
    "We can see that the covariance is negative. This implies an inverse relationship between life expectancy at birth and unemployment. But it is important to remember that covariance doesn't mean much by itself. But we can see the inverse relationship in the scatter plot above. As life expectancy at birth increased, unemplohment rate decreased as a result."
   ]
  },
  {
   "cell_type": "code",
   "execution_count": 140,
   "metadata": {},
   "outputs": [
    {
     "data": {
      "text/html": [
       "<div>\n",
       "<style scoped>\n",
       "    .dataframe tbody tr th:only-of-type {\n",
       "        vertical-align: middle;\n",
       "    }\n",
       "\n",
       "    .dataframe tbody tr th {\n",
       "        vertical-align: top;\n",
       "    }\n",
       "\n",
       "    .dataframe thead th {\n",
       "        text-align: right;\n",
       "    }\n",
       "</style>\n",
       "<table border=\"1\" class=\"dataframe\">\n",
       "  <thead>\n",
       "    <tr style=\"text-align: right;\">\n",
       "      <th></th>\n",
       "      <th>Life_expectancy_at_birth</th>\n",
       "      <th>Unemployment</th>\n",
       "    </tr>\n",
       "  </thead>\n",
       "  <tbody>\n",
       "    <tr>\n",
       "      <th>Life_expectancy_at_birth</th>\n",
       "      <td>1.000000</td>\n",
       "      <td>-0.516718</td>\n",
       "    </tr>\n",
       "    <tr>\n",
       "      <th>Unemployment</th>\n",
       "      <td>-0.516718</td>\n",
       "      <td>1.000000</td>\n",
       "    </tr>\n",
       "  </tbody>\n",
       "</table>\n",
       "</div>"
      ],
      "text/plain": [
       "                          Life_expectancy_at_birth  Unemployment\n",
       "Life_expectancy_at_birth                  1.000000     -0.516718\n",
       "Unemployment                             -0.516718      1.000000"
      ]
     },
     "execution_count": 140,
     "metadata": {},
     "output_type": "execute_result"
    }
   ],
   "source": [
    "data = factbook[['Life_expectancy_at_birth','Unemployment']]\n",
    "correlation = data.corr(method='pearson')\n",
    "correlation"
   ]
  },
  {
   "cell_type": "markdown",
   "metadata": {},
   "source": [
    "We can see that Pearson's correlation is a negative number. This shows an inverse relationship as stated above. Furthermore, with how close -0.5 is to -1, we can say that there is a positive (negative) relationship."
   ]
  },
  {
   "cell_type": "markdown",
   "metadata": {},
   "source": [
    "# Hypothesis testing"
   ]
  },
  {
   "cell_type": "markdown",
   "metadata": {},
   "source": [
    "Null hypothesis: Life expectancy at birth has no impact on birth rate"
   ]
  },
  {
   "cell_type": "code",
   "execution_count": 165,
   "metadata": {},
   "outputs": [],
   "source": [
    "class CorrelationPermute(thinkstats2.HypothesisTest):\n",
    "    def TestStatistic(self, data):\n",
    "        xs, ys = data\n",
    "        test_stat = abs(thinkstats2.Corr(xs, ys))\n",
    "        return test_stat\n",
    "    def RunModel(self):\n",
    "        xs, ys = self.data\n",
    "        xs = np.random.permutation(xs)\n",
    "        return xs, ys"
   ]
  },
  {
   "cell_type": "code",
   "execution_count": 166,
   "metadata": {},
   "outputs": [],
   "source": [
    "data = factbook.Life_expectancy_at_birth, factbook.Birth_rate\n",
    "ht = CorrelationPermute(data)\n",
    "pvalue = ht.PValue()"
   ]
  },
  {
   "cell_type": "code",
   "execution_count": 167,
   "metadata": {},
   "outputs": [
    {
     "data": {
      "text/plain": [
       "0.0"
      ]
     },
     "execution_count": 167,
     "metadata": {},
     "output_type": "execute_result"
    }
   ],
   "source": [
    "pvalue"
   ]
  },
  {
   "cell_type": "markdown",
   "metadata": {},
   "source": [
    "The test is showing a p-value of 0. I will go ahead and deduce that this is statistically significant. Thus, I will reject the null hypothesis. Life expectancy at birth does affect Birth rate."
   ]
  },
  {
   "cell_type": "markdown",
   "metadata": {},
   "source": [
    "# Simple regression analysis"
   ]
  },
  {
   "cell_type": "code",
   "execution_count": 127,
   "metadata": {},
   "outputs": [],
   "source": [
    "X = factbook['Life_expectancy_at_birth'].values\n",
    "Y = factbook['Birth_rate'].values"
   ]
  },
  {
   "cell_type": "code",
   "execution_count": 128,
   "metadata": {},
   "outputs": [],
   "source": [
    "X = X[~numpy.isnan(X)]\n",
    "Y = Y[~numpy.isnan(Y)]"
   ]
  },
  {
   "cell_type": "code",
   "execution_count": 129,
   "metadata": {},
   "outputs": [],
   "source": [
    "mean_x = factbook.Life_expectancy_at_birth.mean()\n",
    "mean_y = factbook.Birth_rate.mean()"
   ]
  },
  {
   "cell_type": "code",
   "execution_count": 130,
   "metadata": {},
   "outputs": [],
   "source": [
    "n = len(X)"
   ]
  },
  {
   "cell_type": "code",
   "execution_count": 131,
   "metadata": {},
   "outputs": [
    {
     "name": "stdout",
     "output_type": "stream",
     "text": [
      "Coefficients\n",
      "-0.33307708544352477 31.92111317904799\n"
     ]
    }
   ],
   "source": [
    "numer = 0\n",
    "denom = 0\n",
    "for i in range(n):\n",
    "    numer += (X[i] - mean_x) * (Y[i] - mean_y)\n",
    "    denom += (X[i] - mean_x) ** 2\n",
    "    m = numer / denom\n",
    "    c = mean_y - (m * mean_x)\n",
    " \n",
    "print(\"Coefficients\")\n",
    "print(m, c)"
   ]
  },
  {
   "cell_type": "code",
   "execution_count": 132,
   "metadata": {},
   "outputs": [],
   "source": [
    "max_x = np.max(X) + 100\n",
    "min_x = np.min(X) - 100"
   ]
  },
  {
   "cell_type": "code",
   "execution_count": 133,
   "metadata": {},
   "outputs": [],
   "source": [
    "x = np.linspace(min_x, max_x, 1000)\n",
    "y = c + m * x"
   ]
  },
  {
   "cell_type": "code",
   "execution_count": 134,
   "metadata": {},
   "outputs": [
    {
     "data": {
      "image/png": "[encoded data removed]",
      "text/plain": [
       "<Figure size 432x288 with 1 Axes>"
      ]
     },
     "metadata": {
      "needs_background": "light"
     },
     "output_type": "display_data"
    }
   ],
   "source": [
    "# Ploting Line\n",
    "plt.plot(x, y, color='#58b970', label='Regression Line')\n",
    "# Ploting Scatter Points\n",
    "plt.scatter(X, Y, c='#ef5423', label='Scatter Plot')\n",
    " \n",
    "plt.xlabel('Life expectancy at birth (years)')\n",
    "plt.ylabel('Birth rate (per 1,000)')\n",
    "plt.legend()\n",
    "plt.show()"
   ]
  },
  {
   "cell_type": "code",
   "execution_count": null,
   "metadata": {},
   "outputs": [],
   "source": []
  }
 ],
 "metadata": {
  "kernelspec": {
   "display_name": "Python 3",
   "language": "python",
   "name": "python3"
  },
  "language_info": {
   "codemirror_mode": {
    "name": "ipython",
    "version": 3
   },
   "file_extension": ".py",
   "mimetype": "text/x-python",
   "name": "python",
   "nbconvert_exporter": "python",
   "pygments_lexer": "ipython3",
   "version": "3.7.6"
  }
 },
 "nbformat": 4,
 "nbformat_minor": 4
}
